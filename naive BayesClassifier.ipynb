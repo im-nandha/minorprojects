{
  "nbformat": 4,
  "nbformat_minor": 0,
  "metadata": {
    "colab": {
      "provenance": []
    },
    "kernelspec": {
      "name": "python3",
      "display_name": "Python 3"
    },
    "language_info": {
      "name": "python"
    }
  },
  "cells": [
    {
      "cell_type": "code",
      "source": [
        "import nltk\n",
        "from nltk.tokenize import word_tokenize\n",
        "from nltk.corpus import stopwords\n",
        "from nltk.stem import PorterStemmer\n",
        "from nltk import NaiveBayesClassifier\n",
        "from nltk.classify import accuracy\n",
        "\n",
        "# Download necessary resources\n",
        "nltk.download('punkt')\n",
        "nltk.download('stopwords')\n",
        "\n",
        "# Preprocessing function\n",
        "def preprocess(text):\n",
        "    tokens = word_tokenize(text.lower())  # Tokenization and lowercase\n",
        "    stop_words = set(stopwords.words('english'))\n",
        "    tokens = [word for word in tokens if word.isalpha() and word not in stop_words]  # Removing stopwords and non-alphabetic tokens\n",
        "    stemmer = PorterStemmer()\n",
        "    tokens = [stemmer.stem(word) for word in tokens]  # Stemming\n",
        "    return dict([(token, True) for token in tokens])\n",
        "\n",
        "# Read dataset from a text file\n",
        "dataset_file = \"dataset.txt\"  # Path to your dataset file\n",
        "dataset = []\n",
        "with open(dataset_file, 'r') as file:\n",
        "    for line in file:\n",
        "        text, label = line.strip().split(\",\")\n",
        "        dataset.append((text, label))\n",
        "\n",
        "# Preprocess the dataset\n",
        "preprocessed_dataset = [(preprocess(text), label) for text, label in dataset]\n",
        "\n",
        "# Split data into training and testing sets\n",
        "train_data = preprocessed_dataset[:90]\n",
        "test_data = preprocessed_dataset[10:]\n",
        "\n",
        "# Train the Naive Bayes Classifier\n",
        "classifier = NaiveBayesClassifier.train(train_data)\n",
        "\n",
        "# Test the classifier\n",
        "print(\"Accuracy:\", accuracy(classifier, test_data))\n",
        "\n",
        "# Test a new text segment\n",
        "text_to_classify = \"The product exceeded my expectations\"  # You can change this text to test different segments\n",
        "preprocessed_text = preprocess(text_to_classify)\n",
        "print(\"Classification:\", classifier.classify(preprocessed_text))\n"
      ],
      "metadata": {
        "colab": {
          "base_uri": "https://localhost:8080/"
        },
        "id": "sZP5wa25U1XW",
        "outputId": "30c69bb6-e94a-48a2-f81a-10d40802ec9d"
      },
      "execution_count": 30,
      "outputs": [
        {
          "output_type": "stream",
          "name": "stdout",
          "text": [
            "Accuracy: 0.9333333333333333\n",
            "Classification: positive\n"
          ]
        },
        {
          "output_type": "stream",
          "name": "stderr",
          "text": [
            "[nltk_data] Downloading package punkt to /root/nltk_data...\n",
            "[nltk_data]   Package punkt is already up-to-date!\n",
            "[nltk_data] Downloading package stopwords to /root/nltk_data...\n",
            "[nltk_data]   Package stopwords is already up-to-date!\n"
          ]
        }
      ]
    }
  ]
}